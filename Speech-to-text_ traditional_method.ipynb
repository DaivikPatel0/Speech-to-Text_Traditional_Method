{
 "cells": [
  {
   "cell_type": "markdown",
   "id": "2a3f2f3a-e088-4bcf-bcac-52828040433a",
   "metadata": {},
   "source": [
    "# **Speech-To-Text Using HMM and GMM Models**"
   ]
  },
  {
   "cell_type": "markdown",
   "id": "d258eb41-92a2-4242-bef9-2956c6cff157",
   "metadata": {},
   "source": [
    "## Hi, I’m Daivik Patel — an AI/ML enthusiast with a passion for building, experimenting with, and optimizing machine learning models.\n",
    "\n",
    "This project was developed as part of my mid-term academic assessment, with the specific requirement of not using any pre-trained models or neural networks. Instead, I implemented traditional techniques in Natural Language Processing (NLP) and Audio Processing to build a speech recognition system.\n",
    "\n",
    "The system leverages two classical machine learning models:\n",
    "\n",
    "- Hidden Markov Model (HMM) for sequence modelling  \n",
    "\n",
    "- Gaussian Mixture Model (GMM) for probabilistic classification\n",
    "\n",
    "The goal was to classify spoken words using only fundamental signal processing and statistical modelling methods — demonstrating that effective speech recognition is possible even without deep learning."
   ]
  },
  {
   "cell_type": "markdown",
   "id": "cf1ad066-995c-43e3-b519-0c03a928224c",
   "metadata": {},
   "source": [
    "## First, we will install some packages which are required for this project\n",
    "\n",
    "1) `sounddevice` - To record audio from your microphone in real-time, so we can capture raw audio directly from your PC’s mic and save the audio as NumPy arrays (which we later convert to .wav).\n",
    "\n",
    "2) `scipy` - It saves the Numpy array from `sounddevice` into an actual `.wav` file.\n",
    "\n",
    "3) `librosa` - It converts `.wav` into MFCC (Mel-Frequency Cepstral Coefficients), which converts raw sound into machine-readable numbers.\n",
    "\n",
    "4) `numpy` - The foundation for numerical operations and array handling. All the audio data, MFCCs, and intermediate steps are handled using NumPy arrays. This will be used throughout data prep, training, and model prediction.\n",
    "\n",
    "5) `matplotlib` - For visualizing the audio waveform or MFCCs. Also helps for debugging and understanding what features we are extracting. Plotting spectrograms, MFCC matrices, etc.\n",
    "\n",
    "6) `hmmlearn` - To build the actual Hidden Markov Models (HMM) that will learn and decode speech patterns. This is the core engine that maps speech features to text without neural networks or pretrained models.\n",
    "- It allows you to:\n",
    "\n",
    "   - Train a model using sequences (like MFCCs).\n",
    "\n",
    "   - Use GaussianHMM to model acoustic features.\n",
    "\n",
    "   - Apply Viterbi decoding to predict the best word/digit. (Not explicitly, but when we call the HMM model.score() it internally uses the log-likelihood computation, which is based on the Viterbi algorithm )"
   ]
  },
  {
   "cell_type": "code",
   "execution_count": null,
   "id": "1d732083-8cd2-4c52-9c38-62ebe5cab96c",
   "metadata": {},
   "outputs": [],
   "source": [
    "pip install sounddevice scipy librosa numpy matplotlib hmmlearn"
   ]
  },
  {
   "cell_type": "markdown",
   "id": "3640f496-f0d8-429a-90ec-870b26961eb3",
   "metadata": {},
   "source": [
    "We have to patched `np.complex` to ensure compatibility between newer NumPy versions (≥1.24) and older Librosa versions that still rely on deprecated NumPy aliases."
   ]
  },
  {
   "cell_type": "code",
   "execution_count": 1,
   "id": "c38bd85f-9092-4bb7-829f-41329b8c5249",
   "metadata": {},
   "outputs": [],
   "source": [
    "# PATCH numpy for librosa compatibility\n",
    "import numpy as np\n",
    "import warnings # lets us suppress or handle userwarning messages.\n",
    "warnings.filterwarnings(\"ignore\", category=UserWarning)\n",
    "\n",
    "if not hasattr(np, 'complex'):\n",
    "    np.complex = complex"
   ]
  },
  {
   "cell_type": "markdown",
   "id": "19bd3283-89d6-4ce1-83fe-7155a2294d75",
   "metadata": {},
   "source": [
    "### Required libraries"
   ]
  },
  {
   "cell_type": "code",
   "execution_count": 2,
   "id": "9436a1c9-a845-43fe-b5c3-79237c859cf0",
   "metadata": {},
   "outputs": [],
   "source": [
    "import os\n",
    "import librosa\n",
    "import pickle\n",
    "import random\n",
    "from sklearn.model_selection import train_test_split\n",
    "from sklearn.mixture import GaussianMixture\n",
    "from hmmlearn import hmm\n",
    "from collections import defaultdict\n",
    "from sklearn.metrics import accuracy_score\n",
    "from sklearn.preprocessing import StandardScaler\n",
    "import matplotlib.pyplot as plt\n",
    "import sounddevice as sd"
   ]
  },
  {
   "cell_type": "markdown",
   "id": "646187a5-5b81-4444-971a-506c1e079132",
   "metadata": {},
   "source": [
    "### Defining Paths for the project"
   ]
  },
  {
   "cell_type": "code",
   "execution_count": 3,
   "id": "49f3b17d-00ff-4926-b363-f9b3d4c3ad60",
   "metadata": {},
   "outputs": [],
   "source": [
    "DATASET_PATH = r\"C:\\Users\\Daivik\\Desktop\\NLP-sem-2\\Best Project\\Unziped\" # Where all words folds are saved\n",
    "FEATURE_SAVE_PATH = r\"C:\\Users\\Daivik\\Desktop\\NLP-sem-2\\Best Project\\Extracted Features\" # Where your extracted features are going to be saved\n",
    "MODEL_SAVE_DIR = r\"C:\\Users\\Daivik\\Desktop\\NLP-sem-2\\Best Project\\Trained models\" # Where your trained models will be saved\n",
    "NOISE_FOLDER = os.path.join(DATASET_PATH, \"_background_noise_\") # This constructs the path to the _background_noise_ folder inside your dataset\n",
    "FEATURES_FILE = os.path.join(FEATURE_SAVE_PATH, \"features.pkl\") # Full path (including filename) for saving or loading the extracted audio features in pickle format."
   ]
  },
  {
   "cell_type": "markdown",
   "id": "2cb9d8a0-b948-4d25-bdaa-f2e024ed75ce",
   "metadata": {},
   "source": [
    " This `load_noise_files` function loads all background noise `.wav` files from **NOISE_FOLDER** into a list of audio signals (Numpy arrays), which we will use to add noise in the dataset randomly to improve model robustness.\n",
    "\n",
    " `sr` stands for sampling rate. The number of samples of audio recorded per second. 16,000 Hz (or 16 kHz) is a common sampling rate for voice datasets (like Google Speech Commands). We want all the noise files to be consistent."
   ]
  },
  {
   "cell_type": "code",
   "execution_count": null,
   "id": "0b5aba7f-9191-4927-9c31-d2f63ccfa6d6",
   "metadata": {},
   "outputs": [],
   "source": [
    "# Loading background noise\n",
    "def load_noise_files(folder):\n",
    "    noises = []\n",
    "    for file in os.listdir(folder):\n",
    "        if file.endswith(\".wav\"):\n",
    "            path = os.path.join(folder, file)\n",
    "            signal, _ = librosa.load(path, sr=16000)\n",
    "            noises.append(signal)\n",
    "    return noises\n",
    "\n",
    "noise_samples = load_noise_files(NOISE_FOLDER)"
   ]
  },
  {
   "cell_type": "markdown",
   "id": "03f00b93-8d2c-4794-991e-7c44ad9037b7",
   "metadata": {},
   "source": [
    "This `add_noise` function will add noise randomly from the noise (that we have created by `load_noise_files` function) list by selecting one noise sample from the list to the original signals of audio files (word .wav numpy array). The noise folder provided by the dataset contains noise files, which are bigger in length compared to the word files (which are 1 or 2 seconds long), so we are trimming the noise files randomly to the same length as the word files.\n",
    "`noise_level` = 0.2, we can change this. This is the parameter with which we can add strong or weak noise to the original signals."
   ]
  },
  {
   "cell_type": "code",
   "execution_count": 4,
   "id": "de2b1bad-d18c-4b2d-9e76-7b25784abf1b",
   "metadata": {},
   "outputs": [],
   "source": [
    "# Adding background noise\n",
    "def add_noise(signal, noise_list, noise_level=0.2):\n",
    "    noise = random.choice(noise_list)\n",
    "    if len(noise) < len(signal):\n",
    "        signal = signal[:len(noise)]\n",
    "        noise_segment = noise\n",
    "    else:\n",
    "        start = random.randint(0, len(noise) - len(signal))\n",
    "        noise_segment = noise[start:start + len(signal)]\n",
    "    return signal + noise_level * noise_segment"
   ]
  },
  {
   "cell_type": "markdown",
   "id": "7297e967-3a38-4f2e-875c-b0f922fc1faa",
   "metadata": {},
   "source": [
    "This `normalize_features` function combines MFCC (core speech features), delta (1st-order derivative (captures changes), and delta² (2nd-order derivative (acceleration of changes)) features, and normalizes them so that all values are on the same scale using `standardscalar` (mean= 0, standard deviation =1). This improves model stability and accuracy during training and prediction by preventing features with larger values from dominating."
   ]
  },
  {
   "cell_type": "code",
   "execution_count": 5,
   "id": "1257080c-59b7-4c8e-a23b-0fcbc39c0540",
   "metadata": {},
   "outputs": [],
   "source": [
    "# Normalizing MFCC + delta + delta2 \n",
    "def normalize_features(mfcc, delta, delta2):\n",
    "    features = np.concatenate((mfcc, delta, delta2), axis=1)\n",
    "    scaler = StandardScaler()\n",
    "    return scaler.fit_transform(features)"
   ]
  },
  {
   "cell_type": "markdown",
   "id": "f0dcfe80-7f30-4a04-84f9-5caf87905745",
   "metadata": {},
   "source": [
    "### **What is MFCC, delta and delta2 ?**\n",
    "\n",
    "**1** `MFCC` - Stands for Mel-Frequency Cepstral Coefficients, it is the most commonly used feature in speech and audio processing. It captures the spectral shape of the sound using the Mel scale, which mimics how humans perceive pitch and best feature for speech recognition.\n",
    "\n",
    "**2** `delta` - It calculates the rate of change of MFCCs over time. It detects transitions in speech (like going from \"s\" to \"h\" in \"sheila\").\n",
    "\n",
    "**3** `delta2` - It measures the rate of change of the delta features (i.e., acceleration). Helps model from rapid shifts or slurred/fast speech patterns."
   ]
  },
  {
   "cell_type": "markdown",
   "id": "f65cedc6-eb73-4b0a-ab91-53925380ee63",
   "metadata": {},
   "source": [
    "This `extract_features_from_folder` function loads a word folder and loads .wav files from that folder. It adds noise from the noise list that we have created into the data with a probability of 30%, which means our 30 % data has extra noise inside it to simulate real-world conditions. Then we are extracting 13 MFCC features per frame and transposing to shape `(time_steps, 13)` to be compatible with our models. We are manually setting a safe, odd-sized window for computing delta features based on signal length, usually between 3–9 frames. After that, our delta will be calculated and normalized with standardscalar (mfcc + delta + delta2)."
   ]
  },
  {
   "cell_type": "code",
   "execution_count": 6,
   "id": "1d6f2bb8-c4ff-4b34-a03a-d02e9e3e9f73",
   "metadata": {},
   "outputs": [],
   "source": [
    "# Extracting features from the word folder\n",
    "def extract_features_from_folder(folder_path, label, noise_list, apply_noise_prob=0.3):\n",
    "    features = []\n",
    "    for file in os.listdir(folder_path):\n",
    "        if file.endswith(\".wav\"):\n",
    "            path = os.path.join(folder_path, file)\n",
    "            signal, sr = librosa.load(path, sr=16000)\n",
    "\n",
    "            if random.random() < apply_noise_prob:\n",
    "                signal = add_noise(signal, noise_list, noise_level=0.2)\n",
    "\n",
    "            mfcc = librosa.feature.mfcc(y=signal, sr=sr, n_mfcc=13).T\n",
    "            width = max(3, (min(9, mfcc.shape[0]) // 2) * 2 + 1)\n",
    "            delta = librosa.feature.delta(mfcc.T, width=width).T\n",
    "            delta2 = librosa.feature.delta(mfcc.T, order=2, width=width).T\n",
    "            combined = normalize_features(mfcc, delta, delta2)\n",
    "            features.append((combined, label))\n",
    "    return features"
   ]
  },
  {
   "cell_type": "markdown",
   "id": "a7ae3118-c40d-4e43-9aee-86d6b49f3752",
   "metadata": {},
   "source": [
    "This `extract_silence_class` function we are adding because when we don't say anything into the mic, the model will still try to predict words, so we want when we don't speak into the mic it add a class (label) called silence.\n",
    "\n",
    "This function will generate synthetic \"silence\" training data from background noise list and randomly select 1-second noise segments, then extract MFCC + delta + delta² features, normalize them and label them as \"silence\". This helps the model learn to recognize silence vs. spoken words, reducing false predictions during live use."
   ]
  },
  {
   "cell_type": "code",
   "execution_count": 7,
   "id": "12a70706-45b0-43b4-9eea-da3ea5c77984",
   "metadata": {},
   "outputs": [],
   "source": [
    "# Extracting features for \"silence\" class\n",
    "def extract_silence_class(noise_list, count=100):\n",
    "    silence_features = []\n",
    "    for _ in range(count):\n",
    "        noise = random.choice(noise_list)\n",
    "        if len(noise) < 16000:\n",
    "            continue\n",
    "        start = random.randint(0, len(noise) - 16000)\n",
    "        segment = noise[start:start + 16000]\n",
    "        mfcc = librosa.feature.mfcc(y=segment, sr=16000, n_mfcc=13).T\n",
    "        width = max(3, (min(9, mfcc.shape[0]) // 2) * 2 + 1)\n",
    "        delta = librosa.feature.delta(mfcc.T, width=width).T\n",
    "        delta2 = librosa.feature.delta(mfcc.T, order=2, width=width).T\n",
    "        combined = normalize_features(mfcc, delta, delta2)\n",
    "        silence_features.append((combined, \"silence\"))\n",
    "    return silence_features"
   ]
  },
  {
   "cell_type": "markdown",
   "id": "fb6e52b8-f2dd-45f4-b437-2d5cf65de2ec",
   "metadata": {},
   "source": [
    "This block handles feature extraction and caching. It goes through each word folder, extracts MFCC + delta + delta² features, adds synthetic silence samples, and saves everything in a .pkl file. If the file already exists, it simply loads the features instead of recomputing them.\n",
    "This saves time and ensures consistent training data."
   ]
  },
  {
   "cell_type": "code",
   "execution_count": 8,
   "id": "d3e7d1e6-e0bd-486d-8f26-06b8461d0222",
   "metadata": {},
   "outputs": [
    {
     "name": "stdout",
     "output_type": "stream",
     "text": [
      "🔍 Extracting features from dataset...\n",
      "📁 Processing word: backward\n",
      "📁 Processing word: bed\n",
      "📁 Processing word: bird\n",
      "📁 Processing word: cat\n",
      "📁 Processing word: dog\n",
      "📁 Processing word: down\n",
      "📁 Processing word: eight\n",
      "📁 Processing word: five\n",
      "📁 Processing word: follow\n",
      "📁 Processing word: forward\n",
      "📁 Processing word: four\n",
      "📁 Processing word: go\n",
      "📁 Processing word: happy\n",
      "📁 Processing word: house\n",
      "📁 Processing word: learn\n",
      "📁 Processing word: left\n",
      "📁 Processing word: marvin\n",
      "📁 Processing word: nine\n",
      "📁 Processing word: no\n",
      "📁 Processing word: off\n",
      "📁 Processing word: on\n",
      "📁 Processing word: one\n",
      "📁 Processing word: right\n",
      "📁 Processing word: seven\n",
      "📁 Processing word: sheila\n",
      "📁 Processing word: six\n",
      "📁 Processing word: stop\n",
      "📁 Processing word: three\n",
      "📁 Processing word: tree\n",
      "📁 Processing word: two\n",
      "📁 Processing word: up\n",
      "📁 Processing word: visual\n",
      "📁 Processing word: wow\n",
      "📁 Processing word: yes\n",
      "📁 Processing word: zero\n"
     ]
    }
   ],
   "source": [
    "# Extracting features and saving them\n",
    "os.makedirs(FEATURE_SAVE_PATH, exist_ok=True)\n",
    "if not os.path.exists(FEATURES_FILE):\n",
    "    print(\"🔍 Extracting features from dataset...\")\n",
    "    data = []\n",
    "    for word in os.listdir(DATASET_PATH):\n",
    "        full_path = os.path.join(DATASET_PATH, word)\n",
    "        if os.path.isdir(full_path) and word != \"_background_noise_\":\n",
    "            print(f\"📁 Processing word: {word}\")\n",
    "            data += extract_features_from_folder(full_path, word, noise_samples)\n",
    "    data += extract_silence_class(noise_samples, count=100)\n",
    "    with open(FEATURES_FILE, \"wb\") as f:\n",
    "        pickle.dump(data, f)\n",
    "else:\n",
    "    print(\"🔁 Loading existing features...\")\n",
    "    with open(FEATURES_FILE, \"rb\") as f:\n",
    "        data = pickle.load(f)"
   ]
  },
  {
   "cell_type": "code",
   "execution_count": 9,
   "id": "7b3b899e-00b7-47cb-a59b-dd33316d8a76",
   "metadata": {},
   "outputs": [
    {
     "name": "stdout",
     "output_type": "stream",
     "text": [
      "Label: backward\n",
      "MFCC shape: (32, 39)\n"
     ]
    }
   ],
   "source": [
    "# Checking one sample from the extracted features\n",
    "sample_mfcc, sample_label = data[0]\n",
    "\n",
    "print(f\"Label: {sample_label}\")\n",
    "print(f\"MFCC shape: {sample_mfcc.shape}\")  # Should be (time_steps, 39) → (time_steps, 13 MFCC + 13 Delta + 13 Delta2)"
   ]
  },
  {
   "cell_type": "markdown",
   "id": "9532a05d-a2b8-4334-84b2-f4f47ae306a1",
   "metadata": {},
   "source": [
    "This heatmap represents the audio features over time for the spoken word \"backward\".\n",
    "\n",
    "X-axis (Time): Shows how the features evolve over seconds (typical length of a spoken word).\n",
    "\n",
    "Y-axis (Feature index): Represents the 39 combined features (MFCC + delta + delta²). Each row is one feature.\n",
    "\n",
    "Color (dB level): Yellow/bright → higher intensity/energy (e.g., strong frequencies). Purple/dark → lower intensity (quiet or no energy)\n",
    "\n",
    "Around 0.5s, we can see brighter vertical bands — these are likely key phonetic transitions in the word \"backward\"."
   ]
  },
  {
   "cell_type": "code",
   "execution_count": 12,
   "id": "45c993bf-5d41-4601-94fa-19a906c21eb5",
   "metadata": {},
   "outputs": [
    {
     "data": {
      "image/png": "[encoded data removed]",
      "text/plain": [
       "<Figure size 1000x400 with 2 Axes>"
      ]
     },
     "metadata": {},
     "output_type": "display_data"
    }
   ],
   "source": [
    "plt.figure(figsize=(10, 4))\n",
    "librosa.display.specshow(sample_mfcc.T, x_axis='time', cmap='viridis')\n",
    "plt.colorbar(format='%+2.0f dB')\n",
    "plt.title(f\"Visualized MFCC+Delta+Delta2 - Word: {sample_label}\")\n",
    "plt.tight_layout()\n",
    "plt.show()"
   ]
  },
  {
   "cell_type": "code",
   "execution_count": 13,
   "id": "a2c23d09-83f9-472f-97e8-e50442d2face",
   "metadata": {},
   "outputs": [
    {
     "name": "stdout",
     "output_type": "stream",
     "text": [
      "🧠 Training samples: 84743\n",
      "🧪 Validation samples: 21186\n"
     ]
    }
   ],
   "source": [
    "# Splitting the data into train and validation sets\n",
    "train_data, val_data = train_test_split(\n",
    "    data,\n",
    "    test_size=0.2,\n",
    "    stratify=[label for _, label in data],\n",
    "    random_state=42\n",
    ")\n",
    "\n",
    "print(f\"🧠 Training samples: {len(train_data)}\")\n",
    "print(f\"🧪 Validation samples: {len(val_data)}\")"
   ]
  },
  {
   "cell_type": "markdown",
   "id": "ad0437d7-3dbc-498a-afda-b4f628c98187",
   "metadata": {},
   "source": [
    "### **What is Gaussian HMM?**\n",
    "\n",
    "A Gaussian Hidden Markov Model (Gaussian HMM) is a powerful statistical model used extensively in speech and audio processing.\n",
    "\n",
    "A Hidden Markov Model (HMM) is a sequence model with two main layers:\n",
    "\n",
    "**Hidden States** — represent unknown, underlying parts of the process (e.g., phonemes in speech).\n",
    "\n",
    "**Observations** — the actual data we can see (e.g., MFCC features extracted from audio).\n",
    "\n",
    "A Gaussian HMM means the observations are modelled using Gaussian (normal) distributions in each hidden state. Because speech/audio features (like MFCCs) are continuous and vary smoothly, a Gaussian distribution is a natural fit to model them in each state, so in each state the model learns the mean and variance of your MFCC vectors. We have trained total 35 models."
   ]
  },
  {
   "cell_type": "markdown",
   "id": "ceb3b8dd-7d9e-47e8-8271-8a74d36cbe8c",
   "metadata": {},
   "source": [
    "This `train_hmm_models` function trains a separate Hidden Markov Model (HMM) for each word in the dataset using MFCC features and groups the features by label, then concatenates all samples of each label and trains a Gaussian HMM on that group. After that it stores and returns all trained models in a dictionary.Each trained HMM will later be used to score incoming audio and predict the best-matching word."
   ]
  },
  {
   "cell_type": "code",
   "execution_count": 63,
   "id": "daf10198-3df0-4719-b91b-5884d6406c1a",
   "metadata": {
    "scrolled": true
   },
   "outputs": [
    {
     "name": "stdout",
     "output_type": "stream",
     "text": [
      "🔄 Training HMM Models...\n"
     ]
    },
    {
     "ename": "NameError",
     "evalue": "name 'train_data' is not defined",
     "output_type": "error",
     "traceback": [
      "\u001b[1;31m---------------------------------------------------------------------------\u001b[0m",
      "\u001b[1;31mNameError\u001b[0m                                 Traceback (most recent call last)",
      "Cell \u001b[1;32mIn[63], line 16\u001b[0m\n\u001b[0;32m     13\u001b[0m         models[label] \u001b[38;5;241m=\u001b[39m model\n\u001b[0;32m     14\u001b[0m     \u001b[38;5;28;01mreturn\u001b[39;00m models\n\u001b[1;32m---> 16\u001b[0m hmm_models \u001b[38;5;241m=\u001b[39m train_hmm_models(train_data)\n",
      "\u001b[1;31mNameError\u001b[0m: name 'train_data' is not defined"
     ]
    }
   ],
   "source": [
    "# Training HMM\n",
    "NUM_STATES = 7\n",
    "print(\"🔄 Training HMM Models...\")\n",
    "def train_hmm_models(train_data, n_states=NUM_STATES):\n",
    "    models = {}\n",
    "    grouped = defaultdict(list)\n",
    "    for mfcc, label in train_data:\n",
    "        grouped[label].append(mfcc)\n",
    "    for label, sequences in grouped.items():\n",
    "        X = np.concatenate(sequences)\n",
    "        lengths = [len(seq) for seq in sequences]\n",
    "        model = hmm.GaussianHMM(n_components=n_states, covariance_type='diag', n_iter=100, verbose=True)\n",
    "        model.fit(X, lengths)\n",
    "        models[label] = model\n",
    "    return models\n",
    "\n",
    "hmm_models = train_hmm_models(train_data)"
   ]
  },
  {
   "cell_type": "markdown",
   "id": "ed7824ef-df17-49ad-9c4b-ce63b371179c",
   "metadata": {},
   "source": [
    " Scenic, I accidentally ran this cell while adding descriptions that's why it's showing this NameError "
   ]
  },
  {
   "cell_type": "markdown",
   "id": "a5b9cb87-15a8-4839-865b-ed99e27a7a71",
   "metadata": {},
   "source": [
    "### **What is GMM?**\n",
    "\n",
    "A Gaussian Mixture Model (GMM) is a probabilistic model that represents a distribution of data using a mixture of multiple Gaussian (normal) distributions. Speech/audio signals are highly variable and complex. Different people say the same word differently, with changes in tone, speed, and background noise.\n",
    "\n",
    "GMM helps by:\n",
    "\n",
    "Modeling these variations: Each Gaussian can represent a different acoustic characteristic (e.g., part of the word).\n",
    "\n",
    "Capturing distribution patterns in MFCC features of a word.\n",
    "\n",
    "Providing a likelihood score: When a new word is spoken, GMM can calculate the probability that it matches each word model.\n",
    "\n",
    "**Why We use GMM:**\n",
    "\n",
    "Train a separate model for each word in the dataset (e.g., \"yes\", \"no\", \"go\", \"stop\").\n",
    "\n",
    "Learn the acoustic characteristics of each word from MFCC features.\n",
    "\n",
    "Later, during prediction, we: Extract MFCC from live speech, Score it against each GMM, Predict the word whose GMM gives the highest likelihood.\n",
    "\n"
   ]
  },
  {
   "cell_type": "markdown",
   "id": "56ad1d3d-db1b-44e1-8e6c-7b4133c9e349",
   "metadata": {},
   "source": [
    "This `train_gmm_models` function trains one GMM per word using all its MFCC feature vectors, just like the HMM training.\n",
    "Each GMM learns the statistical distribution of a specific word's audio features and is later used for scoring/prediction."
   ]
  },
  {
   "cell_type": "code",
   "execution_count": 16,
   "id": "c952880d-5a6a-4dcd-b438-fc4231bedcd9",
   "metadata": {
    "scrolled": true
   },
   "outputs": [
    {
     "name": "stdout",
     "output_type": "stream",
     "text": [
      "🔄 Training GMM Models...\n",
      "Initialization 0\n",
      "  Iteration 10\n",
      "  Iteration 20\n",
      "  Iteration 30\n",
      "  Iteration 40\n",
      "Initialization converged.\n",
      "Initialization 0\n",
      "  Iteration 10\n",
      "  Iteration 20\n",
      "Initialization converged.\n",
      "Initialization 0\n",
      "  Iteration 10\n",
      "  Iteration 20\n",
      "Initialization converged.\n",
      "Initialization 0\n",
      "  Iteration 10\n",
      "  Iteration 20\n",
      "  Iteration 30\n",
      "Initialization converged.\n",
      "Initialization 0\n",
      "  Iteration 10\n",
      "Initialization converged.\n",
      "Initialization 0\n",
      "  Iteration 10\n",
      "Initialization converged.\n",
      "Initialization 0\n",
      "  Iteration 10\n",
      "  Iteration 20\n",
      "Initialization converged.\n",
      "Initialization 0\n",
      "  Iteration 10\n",
      "Initialization converged.\n",
      "Initialization 0\n",
      "  Iteration 10\n",
      "Initialization converged.\n",
      "Initialization 0\n",
      "  Iteration 10\n",
      "  Iteration 20\n",
      "Initialization converged.\n",
      "Initialization 0\n",
      "  Iteration 10\n",
      "  Iteration 20\n",
      "Initialization converged.\n",
      "Initialization 0\n",
      "  Iteration 10\n",
      "Initialization converged.\n",
      "Initialization 0\n",
      "  Iteration 10\n",
      "  Iteration 20\n",
      "Initialization converged.\n",
      "Initialization 0\n",
      "  Iteration 10\n",
      "  Iteration 20\n",
      "  Iteration 30\n",
      "  Iteration 40\n",
      "  Iteration 50\n",
      "Initialization converged.\n",
      "Initialization 0\n",
      "  Iteration 10\n",
      "  Iteration 20\n",
      "Initialization converged.\n",
      "Initialization 0\n",
      "  Iteration 10\n",
      "  Iteration 20\n",
      "Initialization converged.\n",
      "Initialization 0\n",
      "  Iteration 10\n",
      "Initialization converged.\n",
      "Initialization 0\n",
      "  Iteration 10\n",
      "  Iteration 20\n",
      "Initialization converged.\n",
      "Initialization 0\n",
      "  Iteration 10\n",
      "  Iteration 20\n",
      "Initialization converged.\n",
      "Initialization 0\n",
      "  Iteration 10\n",
      "Initialization converged.\n",
      "Initialization 0\n",
      "  Iteration 10\n",
      "Initialization converged.\n",
      "Initialization 0\n",
      "  Iteration 10\n",
      "  Iteration 20\n",
      "  Iteration 30\n",
      "  Iteration 40\n",
      "  Iteration 50\n",
      "Initialization converged.\n",
      "Initialization 0\n",
      "  Iteration 10\n",
      "  Iteration 20\n",
      "  Iteration 30\n",
      "  Iteration 40\n",
      "  Iteration 50\n",
      "Initialization converged.\n",
      "Initialization 0\n",
      "  Iteration 10\n",
      "Initialization converged.\n",
      "Initialization 0\n",
      "  Iteration 10\n",
      "Initialization converged.\n",
      "Initialization 0\n",
      "  Iteration 10\n",
      "  Iteration 20\n",
      "Initialization converged.\n",
      "Initialization 0\n",
      "  Iteration 10\n",
      "  Iteration 20\n",
      "  Iteration 30\n",
      "Initialization converged.\n",
      "Initialization 0\n",
      "  Iteration 10\n",
      "  Iteration 20\n",
      "  Iteration 30\n",
      "Initialization converged.\n",
      "Initialization 0\n",
      "  Iteration 10\n",
      "  Iteration 20\n",
      "Initialization converged.\n",
      "Initialization 0\n",
      "  Iteration 10\n",
      "Initialization converged.\n",
      "Initialization 0\n",
      "  Iteration 10\n",
      "  Iteration 20\n",
      "  Iteration 30\n",
      "Initialization converged.\n",
      "Initialization 0\n",
      "  Iteration 10\n",
      "  Iteration 20\n",
      "Initialization converged.\n",
      "Initialization 0\n",
      "  Iteration 10\n",
      "  Iteration 20\n",
      "  Iteration 30\n",
      "Initialization converged.\n",
      "Initialization 0\n",
      "  Iteration 10\n",
      "  Iteration 20\n",
      "  Iteration 30\n",
      "Initialization converged.\n",
      "Initialization 0\n",
      "  Iteration 10\n",
      "  Iteration 20\n",
      "Initialization converged.\n",
      "Initialization 0\n",
      "  Iteration 10\n",
      "  Iteration 20\n",
      "Initialization converged.\n"
     ]
    }
   ],
   "source": [
    "# Training GMM\n",
    "print(\"🔄 Training GMM Models...\")\n",
    "def train_gmm_models(train_data, n_components=NUM_STATES):\n",
    "    models = {}\n",
    "    grouped = defaultdict(list)\n",
    "    for mfcc, label in train_data:\n",
    "        grouped[label].append(mfcc)\n",
    "    for label, sequences in grouped.items():\n",
    "        X = np.concatenate(sequences)\n",
    "        model = GaussianMixture(n_components=n_components, covariance_type='diag', max_iter=200, verbose=True)\n",
    "        model.fit(X)\n",
    "        models[label] = model\n",
    "    return models\n",
    "\n",
    "gmm_models = train_gmm_models(train_data)"
   ]
  },
  {
   "cell_type": "code",
   "execution_count": 17,
   "id": "99a0f987-cfed-4bec-955d-69d5009d9b65",
   "metadata": {},
   "outputs": [
    {
     "name": "stdout",
     "output_type": "stream",
     "text": [
      "✅ All models trained and saved successfully.\n"
     ]
    }
   ],
   "source": [
    "# Saving models\n",
    "os.makedirs(MODEL_SAVE_DIR, exist_ok=True)\n",
    "with open(os.path.join(MODEL_SAVE_DIR, \"hmm_models.pkl\"), \"wb\") as f:\n",
    "    pickle.dump(hmm_models, f)\n",
    "with open(os.path.join(MODEL_SAVE_DIR, \"gmm_models.pkl\"), \"wb\") as f:\n",
    "    pickle.dump(gmm_models, f)\n",
    "print(\"✅ All models trained and saved successfully.\")"
   ]
  },
  {
   "cell_type": "markdown",
   "id": "007d3611-7d56-456f-86bd-ff0d225d4224",
   "metadata": {},
   "source": [
    "This `predict_hmm` function takes MFCC input and finds which HMM model (word) most likely generated it based on log-likelihood. Returns the label (word) corresponding to the highest log-likelihood score — i.e., the most probable word.\n",
    "\n",
    "It builds a dictionary like this {\"yes\": -1480.23, \"no\": -1302.90, ..., \"silence\": -1550.33} and based on that it returns the most probable word."
   ]
  },
  {
   "cell_type": "code",
   "execution_count": null,
   "id": "000f8197-b510-4695-9b88-6f397d1e4ec5",
   "metadata": {},
   "outputs": [],
   "source": [
    "# Predicting with HMM\n",
    "def predict_hmm(models, mfcc):\n",
    "    scores = {label: model.score(mfcc) for label, model in models.items()}\n",
    "    return max(scores, key=scores.get)"
   ]
  },
  {
   "cell_type": "markdown",
   "id": "d2f132df-1907-4f23-a2b8-d2de849d0dd7",
   "metadata": {},
   "source": [
    "This `predict_gmm` function evaluates the test MFCC against all trained GMMs and returns the label of the model that gives the highest log-likelihood — i.e., the most probable word predicted by the GMM. "
   ]
  },
  {
   "cell_type": "code",
   "execution_count": 18,
   "id": "09ac9c7c-e56a-4d14-ad91-c6e5589a1b17",
   "metadata": {},
   "outputs": [],
   "source": [
    "# Predicting with GMM \n",
    "def predict_gmm(models, mfcc):\n",
    "    scores = {label: model.score(mfcc) for label, model in models.items()}\n",
    "    return max(scores, key=scores.get)"
   ]
  },
  {
   "cell_type": "markdown",
   "id": "cf7de414-3a32-47e8-9bde-7b07962a16ae",
   "metadata": {},
   "source": [
    "This `evaluate_model` function measures how well a model (HMM or GMM) performs on the validation set by comparing its predictions with true labels. It prints and returns the accuracy score, which helps assess model performance."
   ]
  },
  {
   "cell_type": "code",
   "execution_count": null,
   "id": "4ed4c82b-c961-4142-a889-7c2e74d5357f",
   "metadata": {},
   "outputs": [],
   "source": [
    "# Evaluating on validation set\n",
    "def evaluate_model(model_type, model_dict, predict_func):\n",
    "    y_true = []\n",
    "    y_pred = []\n",
    "    for mfcc, label in val_data:\n",
    "        y_true.append(label)\n",
    "        y_pred.append(predict_func(model_dict, mfcc))\n",
    "    acc = accuracy_score(y_true, y_pred)\n",
    "    print(f\"{model_type} Accuracy: {acc:.4f}\")\n",
    "    return acc"
   ]
  },
  {
   "cell_type": "code",
   "execution_count": 19,
   "id": "5799961a-eb40-4a66-b828-9ef22626fbd7",
   "metadata": {},
   "outputs": [
    {
     "name": "stdout",
     "output_type": "stream",
     "text": [
      "HMM Accuracy: 0.7108\n",
      "GMM Accuracy: 0.7069\n"
     ]
    }
   ],
   "source": [
    "acc_hmm = evaluate_model(\"HMM\", hmm_models, predict_hmm)\n",
    "acc_gmm = evaluate_model(\"GMM\", gmm_models, predict_gmm)"
   ]
  },
  {
   "cell_type": "code",
   "execution_count": 20,
   "id": "e09df885-bb81-4a01-84d8-89902f298606",
   "metadata": {},
   "outputs": [
    {
     "data": {
      "image/png": "[encoded data removed]",
      "text/plain": [
       "<Figure size 600x400 with 1 Axes>"
      ]
     },
     "metadata": {},
     "output_type": "display_data"
    }
   ],
   "source": [
    "# 📊 Plotting the accuracy score of both models\n",
    "plt.figure(figsize=(6, 4))\n",
    "models = [\"HMM\", \"GMM\"]\n",
    "accuracies = [acc_hmm, acc_gmm]\n",
    "bars = plt.bar(models, accuracies)\n",
    "plt.ylim(0, 1)\n",
    "plt.title(\"Model Accuracy on Validation Set\")\n",
    "plt.ylabel(\"Accuracy\")\n",
    "plt.grid(axis='y')\n",
    "\n",
    "# Highlight's values on bars\n",
    "for bar in bars:\n",
    "    height = bar.get_height()\n",
    "    plt.text(bar.get_x() + bar.get_width()/2.0, height + 0.01, f'{height:.2%}', ha='center', va='bottom')\n",
    "\n",
    "plt.tight_layout()\n",
    "plt.show()"
   ]
  },
  {
   "cell_type": "code",
   "execution_count": 4,
   "id": "7a642bd9-68c5-40bc-8309-86a53e632c8f",
   "metadata": {},
   "outputs": [],
   "source": [
    "# Loading trained models\n",
    "with open(r\"C:\\Users\\Daivik\\Desktop\\NLP-sem-2\\Best Project\\Trained models\\hmm_models.pkl\", \"rb\") as f:\n",
    "    hmm_models = pickle.load(f)\n",
    "\n",
    "with open(r\"C:\\Users\\Daivik\\Desktop\\NLP-sem-2\\Best Project\\Trained models\\gmm_models.pkl\", \"rb\") as f:\n",
    "    gmm_models = pickle.load(f)"
   ]
  },
  {
   "cell_type": "markdown",
   "id": "14fcade3-1c4c-4a4d-ba42-b253bc9a922c",
   "metadata": {},
   "source": [
    "This `predict_live()` function is responsible for performing real-time word prediction based on a recorded speech signal. It first extracts features from the input signal (live audio) including MFCC, as well as delta and delta², which capture the dynamic aspects of speech. These features are then normalized to ensure consistency across recordings. After that function evaluates the likelihood of the extracted features against each trained Hidden Markov Model (HMM) and Gaussian Mixture Model (GMM) to determine which word the signal most closely resembles."
   ]
  },
  {
   "cell_type": "code",
   "execution_count": 5,
   "id": "96216fde-fa9e-4575-ad05-1c016ae13156",
   "metadata": {},
   "outputs": [],
   "source": [
    "DURATION = 2  # Length of audio to be recorded from the microphone\n",
    "SAMPLE_RATE = 16000\n",
    "N_MFCC = 13\n",
    "\n",
    "# Adding this normalization function so I don't have to run the entire notebook again.\n",
    "def normalize_features(mfcc, delta, delta2):\n",
    "    features = np.concatenate((mfcc, delta, delta2), axis=1)\n",
    "    scaler = StandardScaler()\n",
    "    return scaler.fit_transform(features)\n",
    "\n",
    "# Predicting function for both models\n",
    "def predict_live(signal, hmm_models, gmm_models):\n",
    "    mfcc = librosa.feature.mfcc(y=signal, sr=SAMPLE_RATE, n_mfcc=N_MFCC).T\n",
    "    width = max(3, (min(9, mfcc.shape[0]) // 2) * 2 + 1)\n",
    "    delta = librosa.feature.delta(mfcc.T, width=width).T\n",
    "    delta2 = librosa.feature.delta(mfcc.T, order=2, width=width).T\n",
    "    features = normalize_features(mfcc, delta, delta2)\n",
    "\n",
    "    hmm_scores = {label: model.score(features) for label, model in hmm_models.items()}\n",
    "    gmm_scores = {label: model.score(features) for label, model in gmm_models.items()}\n",
    "\n",
    "    hmm_pred = max(hmm_scores, key=hmm_scores.get)\n",
    "    gmm_pred = max(gmm_scores, key=gmm_scores.get)\n",
    "\n",
    "    print(f\"🧠 HMM Prediction: {hmm_pred}\")\n",
    "    print(f\"🧠 GMM Prediction: {gmm_pred}\")"
   ]
  },
  {
   "cell_type": "markdown",
   "id": "91e7311d-bc86-4b3f-acec-fdbb6f57561e",
   "metadata": {},
   "source": [
    "This `live_predict` function enables real-time speech prediction using a microphone. It records audio input for a fixed duration (e.g., 1.5 seconds), normalizes the signal for uniform processing, and then passes it to the function. This function extracts MFCC-based features from the signal and uses both trained HMM and GMM models to classify the spoken word."
   ]
  },
  {
   "cell_type": "code",
   "execution_count": 17,
   "id": "25d2ec27-60cf-465d-a1fa-9a2a5e7b5993",
   "metadata": {},
   "outputs": [
    {
     "name": "stdout",
     "output_type": "stream",
     "text": [
      "🎙️ Recording... Speak now!\n",
      "✅ Recording finished.\n",
      "🧠 HMM Prediction: bed\n",
      "🧠 GMM Prediction: go\n"
     ]
    }
   ],
   "source": [
    "# Recording and predicting\n",
    "def live_predict():\n",
    "    print(\"🎙️ Recording... Speak now!\")\n",
    "    recording = sd.rec(int(DURATION * SAMPLE_RATE), samplerate=SAMPLE_RATE, channels=1)\n",
    "    sd.wait()\n",
    "    print(\"✅ Recording finished.\")\n",
    "\n",
    "    signal = recording.flatten()\n",
    "    signal = signal / np.max(np.abs(signal))  # Normalize between -1 and 1\n",
    "\n",
    "    predict_live(signal, hmm_models, gmm_models)\n",
    "\n",
    "# Run prediction\n",
    "live_predict()"
   ]
  },
  {
   "cell_type": "markdown",
   "id": "32fee65f-bb60-4b9b-8e19-c84c55e819a1",
   "metadata": {},
   "source": [
    "## **Conclusion**\n",
    "\n",
    "This project effectively demonstrated the development of a fundamental speech recognition system using classical machine learning approaches—specifically, Hidden Markov Models (HMM) and Gaussian Mixture Models (GMM). Through systematic audio preprocessing and feature extraction, we achieved approximately 71% accuracy in live word prediction, validating the capability of traditional models in limited-vocabulary scenarios. The implementation deepened our understanding of speech signal processing, sequence modelling, and statistical classification. Moreover, it underscored the relevance of foundational techniques in resource-constrained environments and provided a solid platform for future enhancements involving neural networks, larger vocabularies, and real-time applications."
   ]
  },
  {
   "cell_type": "code",
   "execution_count": null,
   "id": "a0e7008c-fa50-4952-bd7d-213e43afe29f",
   "metadata": {},
   "outputs": [],
   "source": []
  }
 ],
 "metadata": {
  "kernelspec": {
   "display_name": "Python 3 (ipykernel)",
   "language": "python",
   "name": "python3"
  },
  "language_info": {
   "codemirror_mode": {
    "name": "ipython",
    "version": 3
   },
   "file_extension": ".py",
   "mimetype": "text/x-python",
   "name": "python",
   "nbconvert_exporter": "python",
   "pygments_lexer": "ipython3",
   "version": "3.12.7"
  }
 },
 "nbformat": 4,
 "nbformat_minor": 5
}
